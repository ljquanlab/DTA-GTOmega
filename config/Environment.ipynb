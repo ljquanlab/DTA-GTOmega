{
 "cells": [
  {
   "cell_type": "markdown",
   "id": "23e8baf9-1efd-4e4d-acdf-670eb6e9151a",
   "metadata": {},
   "source": [
    "### Create Conda Environment"
   ]
  },
  {
   "cell_type": "code",
   "execution_count": null,
   "id": "67c79ba8-ea9f-4849-9e07-f7d9aaca6076",
   "metadata": {},
   "outputs": [],
   "source": [
    "# conda create -n gtomega python==3.10\n",
    "# conda activate gtomega\n",
    "!conda create -n gtomega37 python==3.7.16\n",
    "!conda activate gtomega37"
   ]
  },
  {
   "cell_type": "code",
   "execution_count": 3,
   "id": "e13de6d8-7588-4df2-965a-162421b49f8b",
   "metadata": {},
   "outputs": [
    {
     "name": "stdout",
     "output_type": "stream",
     "text": [
      "Python Version:\n"
     ]
    },
    {
     "data": {
      "text/plain": [
       "'3.10.0 (default, Mar  3 2022, 09:58:08) [GCC 7.5.0]'"
      ]
     },
     "execution_count": 3,
     "metadata": {},
     "output_type": "execute_result"
    }
   ],
   "source": [
    "import sys\n",
    "print('Python Version:')\n",
    "sys.version"
   ]
  },
  {
   "cell_type": "markdown",
   "id": "62e980d0-bca6-4808-874f-62b92c94d705",
   "metadata": {
    "tags": []
   },
   "source": [
    "### Our device Information"
   ]
  },
  {
   "cell_type": "code",
   "execution_count": 2,
   "id": "f8b4ecc6-9e07-4c5f-a327-e11d31f8c7e9",
   "metadata": {},
   "outputs": [
    {
     "name": "stdout",
     "output_type": "stream",
     "text": [
      "Fri Aug 16 13:27:24 2024       \n",
      "+---------------------------------------------------------------------------------------+\n",
      "| NVIDIA-SMI 535.104.05             Driver Version: 535.104.05   CUDA Version: 12.2     |\n",
      "|-----------------------------------------+----------------------+----------------------+\n",
      "| GPU  Name                 Persistence-M | Bus-Id        Disp.A | Volatile Uncorr. ECC |\n",
      "| Fan  Temp   Perf          Pwr:Usage/Cap |         Memory-Usage | GPU-Util  Compute M. |\n",
      "|                                         |                      |               MIG M. |\n",
      "|=========================================+======================+======================|\n",
      "|   0  NVIDIA A100-PCIE-40GB          On  | 00000000:DC:00.0 Off |                    0 |\n",
      "| N/A   29C    P0              33W / 250W |      4MiB / 40960MiB |      0%      Default |\n",
      "|                                         |                      |             Disabled |\n",
      "+-----------------------------------------+----------------------+----------------------+\n",
      "                                                                                         \n",
      "+---------------------------------------------------------------------------------------+\n",
      "| Processes:                                                                            |\n",
      "|  GPU   GI   CI        PID   Type   Process name                            GPU Memory |\n",
      "|        ID   ID                                                             Usage      |\n",
      "|=======================================================================================|\n",
      "|  No running processes found                                                           |\n",
      "+---------------------------------------------------------------------------------------+\n"
     ]
    }
   ],
   "source": [
    "!nvidia-smi"
   ]
  },
  {
   "cell_type": "code",
   "execution_count": 10,
   "id": "9045a0bf-c806-450b-8835-4a22f8037082",
   "metadata": {},
   "outputs": [
    {
     "name": "stdout",
     "output_type": "stream",
     "text": [
      "Current Memory Used: 0.3945 GB\n",
      "cpu: 48\n",
      "kernel number for dataloader workers:6\n"
     ]
    }
   ],
   "source": [
    "import psutil\n",
    "import os\n",
    "print(u'Current Memory Used: %.4f GB' % (psutil.Process(os.getpid()).memory_info().rss / 1024 / 1024 / 1024))\n",
    "print('cpu:', psutil.cpu_count(logical=True))\n",
    "print('kernel number for dataloader workers:', end='')\n",
    "!nproc"
   ]
  },
  {
   "cell_type": "markdown",
   "id": "7e1d06c0-0d59-42cc-9cf8-69662cc70e7d",
   "metadata": {},
   "source": [
    "### Package Install"
   ]
  },
  {
   "cell_type": "code",
   "execution_count": null,
   "id": "3dd56b3b-90b7-4a8b-b3c0-100456d56a6a",
   "metadata": {},
   "outputs": [],
   "source": [
    "# pip install torch==2.2.2 torchvision==0.17.2 torchaudio==2.2.2 --index-url https://download.pytorch.org/whl/cu121\n",
    "!pip install torch==1.13.1+cu117 torchvision==0.14.1+cu117 torchaudio==0.13.1 --extra-index-url https://download.pytorch.org/whl/cu117\n",
    "!pip install pyg_lib torch_scatter torch_sparse torch_cluster torch_spline_conv -f https://data.pyg.org/whl/torch-1.13.0+cu117.html\n",
    "!pip install torch_geometric==2.3.1"
   ]
  },
  {
   "cell_type": "code",
   "execution_count": 8,
   "id": "4f909c5f-8d9f-414a-b523-5e23d07e36b6",
   "metadata": {},
   "outputs": [
    {
     "name": "stdout",
     "output_type": "stream",
     "text": [
      "torch version: 2.2.2+cu121\n",
      "torch cuda version: 12.1\n",
      "cudnn version: 8902\n",
      "torch geometric version: 2.5.3\n"
     ]
    }
   ],
   "source": [
    "import torch\n",
    "import torch_geometric as tg\n",
    "print('torch version:',torch.__version__)\n",
    "print('torch cuda version:',torch.version.cuda)\n",
    "print('cudnn version:', torch.backends.cudnn.version())\n",
    "print('torch geometric version:', tg.__version__)"
   ]
  },
  {
   "cell_type": "code",
   "execution_count": null,
   "id": "bd9fc2a3-84f8-4246-b9cc-d6b561e1c90d",
   "metadata": {},
   "outputs": [],
   "source": [
    "!pip install rdkit-pypi==2022.3.5"
   ]
  },
  {
   "cell_type": "code",
   "execution_count": null,
   "id": "90710ac2-8bce-41cf-b079-e9bc712642fa",
   "metadata": {},
   "outputs": [],
   "source": [
    "!pip install pandas\n",
    "!pip install Bio"
   ]
  },
  {
   "cell_type": "markdown",
   "id": "d9645026-1377-4046-ab85-eda7750108c4",
   "metadata": {},
   "source": [
    "### Jupyter Kernel"
   ]
  },
  {
   "cell_type": "code",
   "execution_count": null,
   "id": "e8e583ef-dae3-45cd-ae2f-488b6ee6a2bb",
   "metadata": {},
   "outputs": [],
   "source": [
    "!conda install ipykernel\n",
    "!python3 -m ipykernel install --user --name gtomega37 --display-name gtomega37"
   ]
  }
 ],
 "metadata": {
  "kernelspec": {
   "display_name": "xie_torch37",
   "language": "python",
   "name": "xie_torch37"
  },
  "language_info": {
   "codemirror_mode": {
    "name": "ipython",
    "version": 3
   },
   "file_extension": ".py",
   "mimetype": "text/x-python",
   "name": "python",
   "nbconvert_exporter": "python",
   "pygments_lexer": "ipython3",
   "version": "3.10.0"
  }
 },
 "nbformat": 4,
 "nbformat_minor": 5
}
